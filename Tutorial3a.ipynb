{
 "cells": [
  {
   "cell_type": "markdown",
   "metadata": {},
   "source": [
    "### Import modules"
   ]
  },
  {
   "cell_type": "code",
   "execution_count": null,
   "metadata": {},
   "outputs": [],
   "source": [
    "import math\n",
    "import pandas as pd\n",
    "import numpy as np\n",
    "import statsmodels.formula.api as sm\n",
    "import matplotlib.pyplot as plt"
   ]
  },
  {
   "cell_type": "markdown",
   "metadata": {},
   "source": [
    "### Read data"
   ]
  },
  {
   "cell_type": "code",
   "execution_count": null,
   "metadata": {},
   "outputs": [],
   "source": [
    "df = pd.read_csv(\"AGF.csv\", sep=\";\")\n",
    "df.head()"
   ]
  },
  {
   "cell_type": "markdown",
   "metadata": {},
   "source": [
    "### Compute the  effective relative bid-ask spread"
   ]
  },
  {
   "cell_type": "code",
   "execution_count": null,
   "metadata": {},
   "outputs": [],
   "source": [
    "df['midquote'] = # insert code here\n",
    "df['eff_rel_spread'] = # insert code here\n",
    "# compute mean relative effective spread\n",
    "df.head()"
   ]
  },
  {
   "cell_type": "markdown",
   "metadata": {},
   "source": [
    "### Compute log returns and lagged log returns\n",
    "First compute log returns (`rt`) and lagged log returns (`rt.lag1`).\n",
    "Note that it is necassary to eliminate the first return of each day: as it is an overnight return, it is observed on a longer interval than intradaily returns. This could bias the estimations.\n",
    "Also, make sure that the lagged return involves prices on the same day as the day on which the lagged return is computed."
   ]
  },
  {
   "cell_type": "code",
   "execution_count": null,
   "metadata": {},
   "outputs": [],
   "source": [
    "# insert your code here"
   ]
  },
  {
   "cell_type": "markdown",
   "metadata": {},
   "source": [
    "### Compute autocovariances and Roll's estimator of the spread\n",
    "1. Compute the autovorariance of returns using the whole sample and compute Roll's estimator of the effective spread. Compare with the average effective bid-ask spread.\n",
    "2. Compute the autocovariance of returns on each day and the associated Roll's estimator. Plot daily Roll's estimates against the daily mean relative effective spread."
   ]
  },
  {
   "cell_type": "code",
   "execution_count": null,
   "metadata": {},
   "outputs": [],
   "source": [
    "cov_all = # compute covariance between rt and rt.lag1 on the whole sample\n",
    "roll_all = # compute Roll's estimator of the spread on the whole sample\n",
    "print(\"Roll's estimate of the effective spread:\", roll_all)\n",
    "print(\"Mean effective relative spread\", np.mean(df['eff_rel_spread'])*2)"
   ]
  },
  {
   "cell_type": "code",
   "execution_count": null,
   "metadata": {},
   "outputs": [],
   "source": [
    "by_date = # group data by day\n",
    "cov_daily = # compute covariance by day\n",
    "roll_daily = # compute Roll's estimator by day\n",
    "e_spreads = # compute effective spread by day\n",
    "plt.plot(e_spreads, roll_daily, 'ro')\n",
    "x = np.linspace(np.min(e_spreads), np.max(e_spreads))\n",
    "plt.plot(x,x, 'b--')"
   ]
  },
  {
   "cell_type": "markdown",
   "metadata": {},
   "source": [
    "### Glosten's estimator and components of the spread"
   ]
  },
  {
   "cell_type": "code",
   "execution_count": null,
   "metadata": {},
   "outputs": [],
   "source": [
    "df_glosten = # create dataframe with daily covariances\n",
    "reg = # regress the estimated effective spread against the actual effective spread\n",
    "print(reg.summary())\n",
    "pi = # insert code here\n",
    "print(\"Proportion of spread due to adverse selection:\", 1-pi)\n",
    "\n",
    "plt.plot(e_spreads, roll_daily/math.sqrt(pi), 'ro')\n",
    "x = np.linspace(np.min(e_spreads), np.max(e_spreads))\n",
    "plt.plot(x,x, 'b--')"
   ]
  }
 ],
 "metadata": {
  "kernelspec": {
   "display_name": "Python 3",
   "language": "python",
   "name": "python3"
  },
  "language_info": {
   "codemirror_mode": {
    "name": "ipython",
    "version": 3
   },
   "file_extension": ".py",
   "mimetype": "text/x-python",
   "name": "python",
   "nbconvert_exporter": "python",
   "pygments_lexer": "ipython3",
   "version": "3.7.4"
  }
 },
 "nbformat": 4,
 "nbformat_minor": 2
}
